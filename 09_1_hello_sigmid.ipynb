{
  "nbformat": 4,
  "nbformat_minor": 0,
  "metadata": {
    "colab": {
      "name": "09_1_hello_sigmid.ipynb",
      "provenance": [],
      "collapsed_sections": [],
      "authorship_tag": "ABX9TyN6Isl8FROZpRDaM+4+YOcC",
      "include_colab_link": true
    },
    "kernelspec": {
      "name": "python3",
      "display_name": "Python 3"
    }
  },
  "cells": [
    {
      "cell_type": "markdown",
      "metadata": {
        "id": "view-in-github",
        "colab_type": "text"
      },
      "source": [
        "<a href=\"https://colab.research.google.com/github/Heo-DaMoon/Hello/blob/master/09_1_hello_sigmid.ipynb\" target=\"_parent\"><img src=\"https://colab.research.google.com/assets/colab-badge.svg\" alt=\"Open In Colab\"/></a>"
      ]
    },
    {
      "cell_type": "code",
      "metadata": {
        "id": "ttZSEcMe0aCt",
        "colab_type": "code",
        "colab": {}
      },
      "source": [
        "import numpy as np\n",
        "import matplotlib.pyplot as plt"
      ],
      "execution_count": null,
      "outputs": []
    },
    {
      "cell_type": "markdown",
      "metadata": {
        "id": "RU2rnVqJQCMA",
        "colab_type": "text"
      },
      "source": [
        "##step fuction"
      ]
    },
    {
      "cell_type": "code",
      "metadata": {
        "id": "2EGtpIZ7P7mo",
        "colab_type": "code",
        "colab": {}
      },
      "source": [
        "def step_function(x):\n",
        "  return np.array(x>0, dtype=np.int)"
      ],
      "execution_count": null,
      "outputs": []
    },
    {
      "cell_type": "code",
      "metadata": {
        "id": "kCIvVc8WP-Vg",
        "colab_type": "code",
        "colab": {}
      },
      "source": [
        "x = np.arange(-5.0, 5.0, 0.1)\n",
        "y = step_function(x)"
      ],
      "execution_count": null,
      "outputs": []
    },
    {
      "cell_type": "code",
      "metadata": {
        "id": "y0ot_B6JQAji",
        "colab_type": "code",
        "colab": {
          "base_uri": "https://localhost:8080/",
          "height": 265
        },
        "outputId": "db354329-678e-4b4f-d507-f67f99395da3"
      },
      "source": [
        "plt.plot(x, y)\n",
        "plt.ylim(-0.1, 1.1)\n",
        "plt.grid()\n",
        "plt.show()"
      ],
      "execution_count": null,
      "outputs": [
        {
          "output_type": "display_data",
          "data": {
            "image/png": "[encoded data removed]",
            "text/plain": [
              "<Figure size 432x288 with 1 Axes>"
            ]
          },
          "metadata": {
            "tags": [],
            "needs_background": "light"
          }
        }
      ]
    },
    {
      "cell_type": "markdown",
      "metadata": {
        "id": "J_oT1c0SQLcI",
        "colab_type": "text"
      },
      "source": [
        "##sigmoid"
      ]
    },
    {
      "cell_type": "code",
      "metadata": {
        "id": "zZBQgZFmQImr",
        "colab_type": "code",
        "colab": {}
      },
      "source": [
        "def sigmoid(x):\n",
        "  return 1 / (1 +np.exp(-x))"
      ],
      "execution_count": null,
      "outputs": []
    },
    {
      "cell_type": "code",
      "metadata": {
        "id": "OP9tug6SQPiV",
        "colab_type": "code",
        "colab": {}
      },
      "source": [
        "x = np.arange(-5.0, 5.0, 0.1)\n",
        "y2 = sigmoid(x)"
      ],
      "execution_count": null,
      "outputs": []
    },
    {
      "cell_type": "code",
      "metadata": {
        "id": "35IOdbr0QSkc",
        "colab_type": "code",
        "colab": {
          "base_uri": "https://localhost:8080/",
          "height": 265
        },
        "outputId": "648d616a-f421-4bf3-f459-cc790582e787"
      },
      "source": [
        "plt.plot(x, y2)\n",
        "plt.ylim(-0.1, 1.1)\n",
        "plt.grid()\n",
        "plt.show()"
      ],
      "execution_count": null,
      "outputs": [
        {
          "output_type": "display_data",
          "data": {
            "image/png": "[encoded data removed]",
            "text/plain": [
              "<Figure size 432x288 with 1 Axes>"
            ]
          },
          "metadata": {
            "tags": [],
            "needs_background": "light"
          }
        }
      ]
    },
    {
      "cell_type": "markdown",
      "metadata": {
        "id": "P1zFp32nQW5x",
        "colab_type": "text"
      },
      "source": [
        "##추가적인 항목"
      ]
    },
    {
      "cell_type": "code",
      "metadata": {
        "id": "LtdgglCYQUy-",
        "colab_type": "code",
        "colab": {}
      },
      "source": [
        "def sigmoid2(c1,x):\n",
        "  return 1 / (1 +np.exp(-c1*x))"
      ],
      "execution_count": null,
      "outputs": []
    },
    {
      "cell_type": "code",
      "metadata": {
        "id": "HZlx4BDEQn_l",
        "colab_type": "code",
        "colab": {}
      },
      "source": [
        "y3 = sigmoid2(1.0, x)"
      ],
      "execution_count": null,
      "outputs": []
    },
    {
      "cell_type": "code",
      "metadata": {
        "id": "1WvCdJk2Rnlq",
        "colab_type": "code",
        "colab": {
          "base_uri": "https://localhost:8080/",
          "height": 281
        },
        "outputId": "abae18d5-429c-4d16-880d-140d494ad7c0"
      },
      "source": [
        "plt.title(\"TEST1\")\n",
        "plt.plot(x,y3)\n",
        "plt.grid()\n",
        "plt.show()"
      ],
      "execution_count": null,
      "outputs": [
        {
          "output_type": "display_data",
          "data": {
            "image/png": "[encoded data removed]",
            "text/plain": [
              "<Figure size 432x288 with 1 Axes>"
            ]
          },
          "metadata": {
            "tags": [],
            "needs_background": "light"
          }
        }
      ]
    },
    {
      "cell_type": "markdown",
      "metadata": {
        "id": "RqeFshRCR7cp",
        "colab_type": "text"
      },
      "source": [
        "# 좀 더 직각에 가까운 모양을 얻기 위하여, y3 = sigmoid2(1.0, x) 를 y4 = sigmoid2(5.0, x) 로 바꿔봄."
      ]
    },
    {
      "cell_type": "code",
      "metadata": {
        "id": "yrD0HQhoRq_k",
        "colab_type": "code",
        "colab": {}
      },
      "source": [
        "y4 = sigmoid2(5.0, x)"
      ],
      "execution_count": null,
      "outputs": []
    },
    {
      "cell_type": "code",
      "metadata": {
        "id": "AqXS-XNnR2ap",
        "colab_type": "code",
        "colab": {
          "base_uri": "https://localhost:8080/",
          "height": 281
        },
        "outputId": "e4b62a08-47cd-49ba-c13b-7f289e97bf6a"
      },
      "source": [
        "plt.title(\"TEST2\")\n",
        "plt.plot(x,y4)\n",
        "plt.grid()\n",
        "plt.show()"
      ],
      "execution_count": null,
      "outputs": [
        {
          "output_type": "display_data",
          "data": {
            "image/png": "[encoded data removed]",
            "text/plain": [
              "<Figure size 432x288 with 1 Axes>"
            ]
          },
          "metadata": {
            "tags": [],
            "needs_background": "light"
          }
        }
      ]
    },
    {
      "cell_type": "markdown",
      "metadata": {
        "id": "-q04ZU9zSXYa",
        "colab_type": "text"
      },
      "source": [
        "# 앞의 1.0보다 5.0이 더욱 원하는 모양에 가까워짐.\n",
        "# 마지막으로 5.0을 10.0으로 변경하여봄."
      ]
    },
    {
      "cell_type": "code",
      "metadata": {
        "id": "mBb9nLA3SVo_",
        "colab_type": "code",
        "colab": {}
      },
      "source": [
        "y5 = sigmoid2(10.0, x)"
      ],
      "execution_count": null,
      "outputs": []
    },
    {
      "cell_type": "code",
      "metadata": {
        "id": "uJeQxhgWSqCg",
        "colab_type": "code",
        "colab": {
          "base_uri": "https://localhost:8080/",
          "height": 281
        },
        "outputId": "b7d2f70d-7264-44bf-bd4e-9cb56f3b275b"
      },
      "source": [
        "plt.title(\"TEST3\")\n",
        "plt.plot(x,y5)\n",
        "plt.grid()\n",
        "plt.show()"
      ],
      "execution_count": null,
      "outputs": [
        {
          "output_type": "display_data",
          "data": {
            "image/png": "[encoded data removed]",
            "text/plain": [
              "<Figure size 432x288 with 1 Axes>"
            ]
          },
          "metadata": {
            "tags": [],
            "needs_background": "light"
          }
        }
      ]
    },
    {
      "cell_type": "markdown",
      "metadata": {
        "id": "n8TG8FDnSutR",
        "colab_type": "text"
      },
      "source": [
        "# 1.0 , 5.0 , 10.0 을 거치며 더욱 계단모양에 가까워지는 것을 알 수 있음."
      ]
    },
    {
      "cell_type": "code",
      "metadata": {
        "id": "J1FOQZaPTO0Q",
        "colab_type": "code",
        "colab": {}
      },
      "source": [
        "def sigmoid3(x, c1, c2):\n",
        "  return 1 / (1 + np.exp(-c1 *(x - c2)))"
      ],
      "execution_count": null,
      "outputs": []
    },
    {
      "cell_type": "code",
      "metadata": {
        "id": "dYirtvP8Ss3Z",
        "colab_type": "code",
        "colab": {
          "base_uri": "https://localhost:8080/",
          "height": 300
        },
        "outputId": "89cf64f4-6aa2-42f7-c023-97b610903307"
      },
      "source": [
        "for i in range(10):\n",
        "  c2 = 0.2 * (i + 1)\n",
        "  c1 = 2\n",
        "  y6 = sigmoid3(5.0, 1, x) \n",
        "  plt.plot(x, y6)\n",
        "plt.grid()\n",
        "plt.title(\"TEST - 1\")"
      ],
      "execution_count": null,
      "outputs": [
        {
          "output_type": "execute_result",
          "data": {
            "text/plain": [
              "Text(0.5, 1.0, 'TEST - 1')"
            ]
          },
          "metadata": {
            "tags": []
          },
          "execution_count": 123
        },
        {
          "output_type": "display_data",
          "data": {
            "image/png": "[encoded data removed]",
            "text/plain": [
              "<Figure size 432x288 with 1 Axes>"
            ]
          },
          "metadata": {
            "tags": [],
            "needs_background": "light"
          }
        }
      ]
    },
    {
      "cell_type": "code",
      "metadata": {
        "id": "FVItC-acT5SB",
        "colab_type": "code",
        "colab": {}
      },
      "source": [
        "y7 = sigmoid3(5.0, 1, x)"
      ],
      "execution_count": null,
      "outputs": []
    },
    {
      "cell_type": "code",
      "metadata": {
        "id": "c0Z8JnhJUAVd",
        "colab_type": "code",
        "colab": {
          "base_uri": "https://localhost:8080/",
          "height": 295
        },
        "outputId": "41f56b1e-b81d-45b1-f8a9-6930d4abe809"
      },
      "source": [
        "plt.title(\"TEST - 2\")\n",
        "plt.plot(x, y7)\n",
        "plt.ylim(-2.1, 5)\n",
        "plt.xlim(-5, 6)\n",
        "plt.xlabel(\"X\")\n",
        "plt.ylabel(\"Y\")\n",
        "\n",
        "plt.grid()\n",
        "plt.show()"
      ],
      "execution_count": null,
      "outputs": [
        {
          "output_type": "display_data",
          "data": {
            "image/png": "[encoded data removed]",
            "text/plain": [
              "<Figure size 432x288 with 1 Axes>"
            ]
          },
          "metadata": {
            "tags": [],
            "needs_background": "light"
          }
        }
      ]
    },
    {
      "cell_type": "code",
      "metadata": {
        "id": "aOkWJ79WUFMw",
        "colab_type": "code",
        "colab": {
          "base_uri": "https://localhost:8080/",
          "height": 265
        },
        "outputId": "2c9a4349-f59a-46b8-fd3c-27241382071d"
      },
      "source": [
        "plt.plot(x, y7)\n",
        "plt.grid()"
      ],
      "execution_count": null,
      "outputs": [
        {
          "output_type": "display_data",
          "data": {
            "image/png": "[encoded data removed]",
            "text/plain": [
              "<Figure size 432x288 with 1 Axes>"
            ]
          },
          "metadata": {
            "tags": [],
            "needs_background": "light"
          }
        }
      ]
    }
  ]
}