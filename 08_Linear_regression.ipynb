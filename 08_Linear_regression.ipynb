{
  "nbformat": 4,
  "nbformat_minor": 0,
  "metadata": {
    "colab": {
      "name": "08_Linear_regression.ipynb",
      "provenance": [],
      "collapsed_sections": [],
      "authorship_tag": "ABX9TyPUph2k8N+I3S38tAJo30Me",
      "include_colab_link": true
    },
    "kernelspec": {
      "name": "python3",
      "display_name": "Python 3"
    }
  },
  "cells": [
    {
      "cell_type": "markdown",
      "metadata": {
        "id": "view-in-github",
        "colab_type": "text"
      },
      "source": [
        "<a href=\"https://colab.research.google.com/github/Heo-DaMoon/Hello/blob/master/08_Linear_regression.ipynb\" target=\"_parent\"><img src=\"https://colab.research.google.com/assets/colab-badge.svg\" alt=\"Open In Colab\"/></a>"
      ]
    },
    {
      "cell_type": "code",
      "metadata": {
        "id": "S6ESKNTazIjP",
        "colab_type": "code",
        "colab": {
          "base_uri": "https://localhost:8080/",
          "height": 93
        },
        "outputId": "a6a26d06-2ecf-4f18-f66f-ec8e77baac26"
      },
      "source": [
        "import tensorflow as tf\n",
        "import tensorflow.compat.v1 as tf\n",
        "tf.disable_v2_behavior()"
      ],
      "execution_count": null,
      "outputs": [
        {
          "output_type": "stream",
          "text": [
            "WARNING:tensorflow:From /usr/local/lib/python3.6/dist-packages/tensorflow/python/compat/v2_compat.py:96: disable_resource_variables (from tensorflow.python.ops.variable_scope) is deprecated and will be removed in a future version.\n",
            "Instructions for updating:\n",
            "non-resource variables are not supported in the long term\n"
          ],
          "name": "stdout"
        }
      ]
    },
    {
      "cell_type": "code",
      "metadata": {
        "id": "bgUCokglxR0x",
        "colab_type": "code",
        "colab": {}
      },
      "source": [
        "import numpy as np\n",
        "import matplotlib.pyplot as plt"
      ],
      "execution_count": null,
      "outputs": []
    },
    {
      "cell_type": "code",
      "metadata": {
        "id": "G9zRUDJO2uLo",
        "colab_type": "code",
        "colab": {}
      },
      "source": [
        "x_train = [1, 2, 3]"
      ],
      "execution_count": null,
      "outputs": []
    },
    {
      "cell_type": "code",
      "metadata": {
        "id": "QQp3B2Ab440D",
        "colab_type": "code",
        "colab": {}
      },
      "source": [
        "y_train = [2+0.1 , 4-0.3, 6+0.15]"
      ],
      "execution_count": null,
      "outputs": []
    },
    {
      "cell_type": "code",
      "metadata": {
        "id": "jiYvDVKK5IG4",
        "colab_type": "code",
        "colab": {
          "base_uri": "https://localhost:8080/",
          "height": 298
        },
        "outputId": "016ffa26-3850-4d61-c384-7dff0a479669"
      },
      "source": [
        "plt.plot(x_train, y_train, '*-')\n",
        "plt.xlabel('X')\n",
        "plt.ylabel('Y')"
      ],
      "execution_count": null,
      "outputs": [
        {
          "output_type": "execute_result",
          "data": {
            "text/plain": [
              "Text(0, 0.5, 'Y')"
            ]
          },
          "metadata": {
            "tags": []
          },
          "execution_count": 33
        },
        {
          "output_type": "display_data",
          "data": {
            "image/png": "[encoded data removed]",
            "text/plain": [
              "<Figure size 432x288 with 1 Axes>"
            ]
          },
          "metadata": {
            "tags": [],
            "needs_background": "light"
          }
        }
      ]
    },
    {
      "cell_type": "code",
      "metadata": {
        "id": "QdLE6Dux5Skp",
        "colab_type": "code",
        "colab": {}
      },
      "source": [
        "w0 = 7.0;\n",
        "b0 = 5.0;"
      ],
      "execution_count": null,
      "outputs": []
    },
    {
      "cell_type": "markdown",
      "metadata": {
        "id": "KEaU-k6w8HKF",
        "colab_type": "text"
      },
      "source": [
        "##Prameter 설정"
      ]
    },
    {
      "cell_type": "code",
      "metadata": {
        "id": "T2d4O1jF6Ji8",
        "colab_type": "code",
        "colab": {}
      },
      "source": [
        "w = tf.Variable(w0*tf.ones([1]), name='weight')\n",
        "b = tf.Variable(b0*tf.ones([1]), name='bias')"
      ],
      "execution_count": null,
      "outputs": []
    },
    {
      "cell_type": "markdown",
      "metadata": {
        "id": "nDbMhJDl8Xk0",
        "colab_type": "text"
      },
      "source": [
        "##Our hypothesis XW+b"
      ]
    },
    {
      "cell_type": "code",
      "metadata": {
        "id": "v1O_eQde6kl0",
        "colab_type": "code",
        "colab": {}
      },
      "source": [
        "hypothesis = x_train * w + b"
      ],
      "execution_count": null,
      "outputs": []
    },
    {
      "cell_type": "markdown",
      "metadata": {
        "id": "ysI-s3pH8wX2",
        "colab_type": "text"
      },
      "source": [
        "#cost/loss fuction"
      ]
    },
    {
      "cell_type": "code",
      "metadata": {
        "id": "51wnUkE_7-HD",
        "colab_type": "code",
        "colab": {}
      },
      "source": [
        "cost = tf.reduce_mean(tf.square(hypothesis - y_train))"
      ],
      "execution_count": null,
      "outputs": []
    },
    {
      "cell_type": "markdown",
      "metadata": {
        "id": "gcnRcwyg8y4x",
        "colab_type": "text"
      },
      "source": [
        "##Optimizer 설정"
      ]
    },
    {
      "cell_type": "code",
      "metadata": {
        "id": "kfgbFw5886Mu",
        "colab_type": "code",
        "colab": {}
      },
      "source": [
        "optimizer = tf.train.GradientDescentOptimizer(learning_rate=0.01)\n",
        "train = optimizer.minimize(cost)"
      ],
      "execution_count": null,
      "outputs": []
    },
    {
      "cell_type": "markdown",
      "metadata": {
        "id": "r807Sg6i9Wzp",
        "colab_type": "text"
      },
      "source": [
        "##Launch the graph in a session"
      ]
    },
    {
      "cell_type": "code",
      "metadata": {
        "id": "szBsQkPF8-7K",
        "colab_type": "code",
        "colab": {}
      },
      "source": [
        "sess = tf.Session()"
      ],
      "execution_count": null,
      "outputs": []
    },
    {
      "cell_type": "markdown",
      "metadata": {
        "id": "jTd9VwA69h_f",
        "colab_type": "text"
      },
      "source": [
        "##Initializes global variables in the graph."
      ]
    },
    {
      "cell_type": "code",
      "metadata": {
        "id": "mieBqSCd9ee-",
        "colab_type": "code",
        "colab": {}
      },
      "source": [
        "sess.run(tf.global_variables_initializer())"
      ],
      "execution_count": null,
      "outputs": []
    },
    {
      "cell_type": "markdown",
      "metadata": {
        "id": "5Vm-7gqy9nyz",
        "colab_type": "text"
      },
      "source": [
        "##RUN"
      ]
    },
    {
      "cell_type": "code",
      "metadata": {
        "id": "9A20Q2xJ9mzY",
        "colab_type": "code",
        "colab": {}
      },
      "source": [
        "nb_epoch = 2000"
      ],
      "execution_count": null,
      "outputs": []
    },
    {
      "cell_type": "code",
      "metadata": {
        "id": "xUhaNROU-IXU",
        "colab_type": "code",
        "colab": {
          "base_uri": "https://localhost:8080/",
          "height": 111
        },
        "outputId": "25f02646-cbef-462b-e329-5097c31a5cdf"
      },
      "source": [
        "for i in range(100):\n",
        "  if i % 20 ==0:\n",
        "    print(i)"
      ],
      "execution_count": null,
      "outputs": [
        {
          "output_type": "stream",
          "text": [
            "0\n",
            "20\n",
            "40\n",
            "60\n",
            "80\n"
          ],
          "name": "stdout"
        }
      ]
    },
    {
      "cell_type": "code",
      "metadata": {
        "id": "R0n7scmr-blm",
        "colab_type": "code",
        "colab": {
          "base_uri": "https://localhost:8080/",
          "height": 409
        },
        "outputId": "c7413760-1baf-4998-94a7-cb194a9d219d"
      },
      "source": [
        "for step in range(nb_epoch+1):\n",
        "  sess.run(train)\n",
        "\n",
        "  if step % 100 == 0:\n",
        "    w1 = sess.run(w)[0]\n",
        "    b1 = sess.run(b)[0]\n",
        "    print(step, sess.run(cost), w1, b1)"
      ],
      "execution_count": null,
      "outputs": [
        {
          "output_type": "stream",
          "text": [
            "0 119.96863 5.213561 4.193435\n",
            "100 0.5482604 1.1971298 1.8153672\n",
            "200 0.35412684 1.3741927 1.4127712\n",
            "300 0.23416416 1.5134063 1.0963061\n",
            "400 0.16003479 1.6228408 0.8475359\n",
            "500 0.114227414 1.708866 0.65198004\n",
            "600 0.08592111 1.77649 0.4982552\n",
            "700 0.06842948 1.8296485 0.3774133\n",
            "800 0.057620715 1.871436 0.2824205\n",
            "900 0.050941586 1.904285 0.20774758\n",
            "1000 0.046814244 1.9301068 0.1490478\n",
            "1100 0.04426387 1.9504054 0.10290458\n",
            "1200 0.042687893 1.9663619 0.0666318\n",
            "1300 0.041714013 1.9789051 0.03811799\n",
            "1400 0.04111222 1.9887651 0.015703695\n",
            "1500 0.040740367 1.9965161 -0.001916035\n",
            "1600 0.040510554 2.0026088 -0.01576661\n",
            "1700 0.040368546 2.0073986 -0.026654685\n",
            "1800 0.040280767 2.0111637 -0.0352136\n",
            "1900 0.04022659 2.0141234 -0.04194174\n",
            "2000 0.040193062 2.0164502 -0.047230836\n"
          ],
          "name": "stdout"
        }
      ]
    },
    {
      "cell_type": "code",
      "metadata": {
        "id": "myzN8e_r-NwY",
        "colab_type": "code",
        "colab": {}
      },
      "source": [
        "vw = [] # empty list\n",
        "vb = []\n",
        "vcost = []"
      ],
      "execution_count": null,
      "outputs": []
    },
    {
      "cell_type": "code",
      "metadata": {
        "id": "Wtbz3BlG_CcE",
        "colab_type": "code",
        "colab": {
          "base_uri": "https://localhost:8080/",
          "height": 409
        },
        "outputId": "b9950a8c-e261-4ac4-aa2a-5f895268e741"
      },
      "source": [
        "for step in range(nb_epoch+1):\n",
        "  sess.run(train)\n",
        "\n",
        "  w1 = sess.run(w)[0]\n",
        "  b1 = sess.run(b)[0]\n",
        "  cost1 = sess.run(cost)\n",
        "\n",
        "  vw.append(w1)\n",
        "  vb.append(b1)\n",
        "  vcost.append(vcost)\n",
        "\n",
        "  if step % 100== 0:\n",
        "    print(step, cost1, w1, b1)"
      ],
      "execution_count": null,
      "outputs": [
        {
          "output_type": "stream",
          "text": [
            "0 0.040192846 2.0164707 -0.047277562\n",
            "100 0.04017222 2.018295 -0.051424906\n",
            "200 0.040159497 2.0197291 -0.054684933\n",
            "300 0.040151607 2.0208564 -0.057247657\n",
            "400 0.040146757 2.0217423 -0.059261866\n",
            "500 0.0401438 2.0224388 -0.06084524\n",
            "600 0.040141873 2.0229864 -0.06208981\n",
            "700 0.04014078 2.0234163 -0.063067734\n",
            "800 0.040140007 2.023755 -0.06383633\n",
            "900 0.040139616 2.0240202 -0.06444051\n",
            "1000 0.04013926 2.0242293 -0.06491535\n",
            "1100 0.040139154 2.024393 -0.06528896\n",
            "1200 0.040139046 2.0245225 -0.06558202\n",
            "1300 0.04013896 2.0246243 -0.06581282\n",
            "1400 0.04013891 2.0247035 -0.0659944\n",
            "1500 0.040138885 2.0247672 -0.06613817\n",
            "1600 0.04013894 2.0248163 -0.06624899\n",
            "1700 0.040138897 2.0248559 -0.06633931\n",
            "1800 0.040138874 2.0248854 -0.06640775\n",
            "1900 0.04013892 2.0249095 -0.06646094\n",
            "2000 0.04013886 2.0249302 -0.0665069\n"
          ],
          "name": "stdout"
        }
      ]
    },
    {
      "cell_type": "code",
      "metadata": {
        "id": "3x1FcWWTATQU",
        "colab_type": "code",
        "colab": {
          "base_uri": "https://localhost:8080/",
          "height": 55
        },
        "outputId": "75fe3307-6bd0-4b0c-f1fb-0d56d9f10903"
      },
      "source": [
        "w1 = sess.run(w)[0]\n",
        "b1 = sess.run(b)[0]\n",
        "str1 = 'y={:3}x + {:.3}'.format(w1, b1)\n",
        "print(w1, b1)\n",
        "print(str1)"
      ],
      "execution_count": null,
      "outputs": [
        {
          "output_type": "stream",
          "text": [
            "2.0249302 -0.0665069\n",
            "y=2.024930238723755x + -0.0665\n"
          ],
          "name": "stdout"
        }
      ]
    },
    {
      "cell_type": "code",
      "metadata": {
        "id": "_Eje4qoRA6Nz",
        "colab_type": "code",
        "colab": {
          "base_uri": "https://localhost:8080/",
          "height": 300
        },
        "outputId": "12eb8327-e296-487c-f9bf-c9b35d9bba42"
      },
      "source": [
        "plt.figure(1)\n",
        "plt.plot(x_train, y_train, 'o')\n",
        "\n",
        "x1 = np.min(x_train)-1, np.max(x_train)+1\n",
        "y1 = np.dot(w1,x1) + b1\n",
        "plt.plot(x1, y1)\n",
        "plt.grid()\n",
        "plt.title(str1)"
      ],
      "execution_count": null,
      "outputs": [
        {
          "output_type": "execute_result",
          "data": {
            "text/plain": [
              "Text(0.5, 1.0, 'y=2.024930238723755x + -0.0665')"
            ]
          },
          "metadata": {
            "tags": []
          },
          "execution_count": 52
        },
        {
          "output_type": "display_data",
          "data": {
            "image/png": "[encoded data removed]",
            "text/plain": [
              "<Figure size 432x288 with 1 Axes>"
            ]
          },
          "metadata": {
            "tags": [],
            "needs_background": "light"
          }
        }
      ]
    },
    {
      "cell_type": "code",
      "metadata": {
        "id": "29QiA6mDCNe-",
        "colab_type": "code",
        "colab": {
          "base_uri": "https://localhost:8080/",
          "height": 284
        },
        "outputId": "6c4cf829-63dc-4937-a6bd-7abf858e4750"
      },
      "source": [
        "plt.plot(vb)"
      ],
      "execution_count": null,
      "outputs": [
        {
          "output_type": "execute_result",
          "data": {
            "text/plain": [
              "[<matplotlib.lines.Line2D at 0x7fa001e9e4a8>]"
            ]
          },
          "metadata": {
            "tags": []
          },
          "execution_count": 54
        },
        {
          "output_type": "display_data",
          "data": {
            "image/png": "[encoded data removed]",
            "text/plain": [
              "<Figure size 432x288 with 1 Axes>"
            ]
          },
          "metadata": {
            "tags": [],
            "needs_background": "light"
          }
        }
      ]
    },
    {
      "cell_type": "code",
      "metadata": {
        "id": "Tv8uG-ViCYEK",
        "colab_type": "code",
        "colab": {
          "base_uri": "https://localhost:8080/",
          "height": 284
        },
        "outputId": "a0c80132-93af-4df4-c7f9-a7258751002a"
      },
      "source": [
        "plt.plot(vw)"
      ],
      "execution_count": null,
      "outputs": [
        {
          "output_type": "execute_result",
          "data": {
            "text/plain": [
              "[<matplotlib.lines.Line2D at 0x7fa001e85978>]"
            ]
          },
          "metadata": {
            "tags": []
          },
          "execution_count": 55
        },
        {
          "output_type": "display_data",
          "data": {
            "image/png": "[encoded data removed]",
            "text/plain": [
              "<Figure size 432x288 with 1 Axes>"
            ]
          },
          "metadata": {
            "tags": [],
            "needs_background": "light"
          }
        }
      ]
    },
    {
      "cell_type": "code",
      "metadata": {
        "id": "adWj29wjCkYr",
        "colab_type": "code",
        "colab": {}
      },
      "source": [
        ""
      ],
      "execution_count": null,
      "outputs": []
    }
  ]
}